{
 "cells": [
  {
   "cell_type": "code",
   "execution_count": 1,
   "id": "5cae23f7",
   "metadata": {
    "scrolled": false
   },
   "outputs": [
    {
     "name": "stdout",
     "output_type": "stream",
     "text": [
      "Accuracy on benign test examples: 96.76%\n"
     ]
    },
    {
     "data": {
      "application/vnd.jupyter.widget-view+json": {
       "model_id": "ddcd24578288414ca7a52ea3d3164409",
       "version_major": 2,
       "version_minor": 0
      },
      "text/plain": [
       "Feature Adversaries PyTorch:   0%|          | 0/100 [00:00<?, ?it/s]"
      ]
     },
     "metadata": {},
     "output_type": "display_data"
    },
    {
     "name": "stdout",
     "output_type": "stream",
     "text": [
      "Iter 0, loss 225.8173370361328, constraint 0.24919502437114716\n",
      "Iter 1, loss 200.65733337402344, constraint 0.24922925233840942\n",
      "Iter 2, loss 181.11036682128906, constraint 0.24924923479557037\n",
      "Iter 3, loss 165.85818481445312, constraint 0.24927107989788055\n",
      "Iter 4, loss 153.41233825683594, constraint 0.2492923140525818\n",
      "Iter 5, loss 143.2724609375, constraint 0.24933242797851562\n",
      "Iter 6, loss 134.2829132080078, constraint 0.2493947148323059\n",
      "Iter 7, loss 126.52005004882812, constraint 0.24944981932640076\n",
      "Iter 8, loss 119.69583129882812, constraint 0.24952928721904755\n",
      "Iter 9, loss 113.74622344970703, constraint 0.2495976984500885\n",
      "Iter 10, loss 108.68122100830078, constraint 0.24966353178024292\n",
      "Iter 11, loss 104.14208984375, constraint 0.24975281953811646\n",
      "Iter 12, loss 100.01905059814453, constraint 0.24982714653015137\n",
      "Iter 13, loss 96.265869140625, constraint 0.2499459683895111\n",
      "Iter 14, loss 92.74263000488281, constraint 0.25002023577690125\n",
      "Iter 15, loss 89.44548034667969, constraint 0.2500915229320526\n",
      "Iter 16, loss 86.37789154052734, constraint 0.25022050738334656\n",
      "Iter 17, loss 83.52464294433594, constraint 0.25032368302345276\n",
      "Iter 18, loss 80.82048797607422, constraint 0.2504015862941742\n",
      "Iter 19, loss 78.21161651611328, constraint 0.25045663118362427\n",
      "Iter 20, loss 75.80455017089844, constraint 0.2504916191101074\n",
      "Iter 21, loss 73.59507751464844, constraint 0.2505200207233429\n",
      "Iter 22, loss 71.6503677368164, constraint 0.2506592571735382\n",
      "Iter 23, loss 69.85574340820312, constraint 0.25080180168151855\n",
      "Iter 24, loss 68.1129150390625, constraint 0.2509012222290039\n",
      "Iter 25, loss 66.51383972167969, constraint 0.2509612441062927\n",
      "Iter 26, loss 65.07844543457031, constraint 0.25109970569610596\n",
      "Iter 27, loss 63.6801872253418, constraint 0.2512432038784027\n",
      "Iter 28, loss 62.295188903808594, constraint 0.2513663172721863\n",
      "Iter 29, loss 61.01068115234375, constraint 0.25147396326065063\n",
      "Iter 30, loss 59.791324615478516, constraint 0.25175610184669495\n",
      "Iter 31, loss 58.649810791015625, constraint 0.2518981099128723\n",
      "Iter 32, loss 57.57514953613281, constraint 0.25191953778266907\n",
      "Iter 33, loss 56.579769134521484, constraint 0.25214260816574097\n",
      "Iter 34, loss 55.63264083862305, constraint 0.2522021532058716\n",
      "Iter 35, loss 54.75841522216797, constraint 0.25244128704071045\n",
      "Iter 36, loss 53.86598587036133, constraint 0.2526775300502777\n",
      "Iter 37, loss 52.99724578857422, constraint 0.25288695096969604\n",
      "Iter 38, loss 52.154144287109375, constraint 0.25297945737838745\n",
      "Iter 39, loss 51.359580993652344, constraint 0.2532004415988922\n",
      "Iter 40, loss 50.64152526855469, constraint 0.2533732056617737\n",
      "Iter 41, loss 49.985042572021484, constraint 0.2535209357738495\n",
      "Iter 42, loss 49.32514953613281, constraint 0.25365906953811646\n",
      "Iter 43, loss 48.72093963623047, constraint 0.2539280951023102\n",
      "Iter 44, loss 48.137752532958984, constraint 0.25415554642677307\n",
      "Iter 45, loss 47.567962646484375, constraint 0.2541593909263611\n",
      "Iter 46, loss 47.02824401855469, constraint 0.25415241718292236\n",
      "Iter 47, loss 46.51079177856445, constraint 0.2541753351688385\n",
      "Iter 48, loss 45.9912109375, constraint 0.25445181131362915\n",
      "Iter 49, loss 45.39722442626953, constraint 0.2546437084674835\n",
      "Iter 50, loss 44.82091522216797, constraint 0.2547591030597687\n",
      "Iter 51, loss 44.27376174926758, constraint 0.25482332706451416\n",
      "Iter 52, loss 43.78779983520508, constraint 0.25485289096832275\n",
      "Iter 53, loss 43.385963439941406, constraint 0.25485387444496155\n",
      "Iter 54, loss 42.90617370605469, constraint 0.2548350393772125\n",
      "Iter 55, loss 42.471656799316406, constraint 0.2548084855079651\n",
      "Iter 56, loss 42.13856887817383, constraint 0.2552143633365631\n",
      "Iter 57, loss 41.80837631225586, constraint 0.2555692195892334\n",
      "Iter 58, loss 41.513126373291016, constraint 0.25585880875587463\n",
      "Iter 59, loss 41.23687744140625, constraint 0.25608813762664795\n",
      "Iter 60, loss 40.93550491333008, constraint 0.25626590847969055\n",
      "Iter 61, loss 40.66246032714844, constraint 0.256408154964447\n",
      "Iter 62, loss 40.37968444824219, constraint 0.2565125524997711\n",
      "Iter 63, loss 40.102291107177734, constraint 0.25658485293388367\n",
      "Iter 64, loss 39.85497283935547, constraint 0.256625771522522\n",
      "Iter 65, loss 39.61825942993164, constraint 0.256641149520874\n",
      "Iter 66, loss 39.380027770996094, constraint 0.2566944360733032\n",
      "Iter 67, loss 39.158687591552734, constraint 0.2567793130874634\n",
      "Iter 68, loss 38.949928283691406, constraint 0.25682738423347473\n",
      "Iter 69, loss 38.733009338378906, constraint 0.2568087875843048\n",
      "Iter 70, loss 38.52013397216797, constraint 0.2567123770713806\n",
      "Iter 71, loss 38.304290771484375, constraint 0.2567960023880005\n",
      "Iter 72, loss 38.11855697631836, constraint 0.257082998752594\n",
      "Iter 73, loss 37.91028594970703, constraint 0.2572292685508728\n",
      "Iter 74, loss 37.7300910949707, constraint 0.25727832317352295\n",
      "Iter 75, loss 37.54573059082031, constraint 0.25728678703308105\n",
      "Iter 76, loss 37.36608123779297, constraint 0.25727179646492004\n",
      "Iter 77, loss 37.16735076904297, constraint 0.25744786858558655\n",
      "Iter 78, loss 36.98825454711914, constraint 0.2576720118522644\n",
      "Iter 79, loss 36.83729553222656, constraint 0.2578335404396057\n",
      "Iter 80, loss 36.704139709472656, constraint 0.25794094800949097\n",
      "Iter 81, loss 36.579593658447266, constraint 0.2573696970939636\n",
      "Iter 82, loss 36.439632415771484, constraint 0.2574673891067505\n",
      "Iter 83, loss 36.31006622314453, constraint 0.2579309940338135\n",
      "Iter 84, loss 36.19068908691406, constraint 0.25824254751205444\n",
      "Iter 85, loss 36.029666900634766, constraint 0.2583948075771332\n",
      "Iter 86, loss 35.87724685668945, constraint 0.25841695070266724\n",
      "Iter 87, loss 35.68571090698242, constraint 0.2588599920272827\n",
      "Iter 88, loss 35.49650192260742, constraint 0.2592122256755829\n",
      "Iter 89, loss 35.336429595947266, constraint 0.25852170586586\n",
      "Iter 90, loss 35.19583511352539, constraint 0.2580875754356384\n",
      "Iter 91, loss 35.069026947021484, constraint 0.25817444920539856\n",
      "Iter 92, loss 34.92715072631836, constraint 0.25820794701576233\n",
      "Iter 93, loss 34.78146743774414, constraint 0.25819358229637146\n",
      "Iter 94, loss 34.653194427490234, constraint 0.2581435441970825\n",
      "Iter 95, loss 34.528831481933594, constraint 0.2581799328327179\n",
      "Iter 96, loss 34.4063720703125, constraint 0.2583426535129547\n",
      "Iter 97, loss 34.28588104248047, constraint 0.2585337162017822\n",
      "Iter 98, loss 34.156036376953125, constraint 0.25863179564476013\n",
      "Iter 99, loss 34.046852111816406, constraint 0.25914186239242554\n",
      "Accuracy on adversarial test batch: 0.0%\n"
     ]
    }
   ],
   "source": [
    "\"\"\"\n",
    "The script demonstrates a simple example of using ART with PyTorch. The example train a small model on the MNIST dataset\n",
    "and creates adversarial examples using the Fast Gradient Sign Method. Here we use the ART classifier to train the model,\n",
    "it would also be possible to provide a pretrained model to the ART classifier.\n",
    "The parameters are chosen for reduced computational requirements of the script and not optimised for accuracy.\n",
    "\"\"\"\n",
    "import torch\n",
    "import torch.nn as nn\n",
    "import torch.nn.functional as F\n",
    "import torch.optim as optim\n",
    "import numpy as np\n",
    "\n",
    "from art.attacks.evasion import FeatureAdversariesPyTorch\n",
    "from art.estimators.classification import PyTorchClassifier\n",
    "from art.utils import load_mnist\n",
    "\n",
    "\n",
    "# Step 1: Load the MNIST dataset\n",
    "\n",
    "(x_train, y_train), (x_test, y_test), min_pixel_value, max_pixel_value = load_mnist()\n",
    "\n",
    "# Step 1a: Swap axes to PyTorch's NCHW format\n",
    "\n",
    "x_train = np.transpose(x_train, (0, 3, 1, 2)).astype(np.float32)\n",
    "x_test = np.transpose(x_test, (0, 3, 1, 2)).astype(np.float32)\n",
    "\n",
    "# Step 2: Create the model\n",
    "\n",
    "model = nn.Sequential(\n",
    "    nn.Conv2d(1, 4, 5), nn.ReLU(), nn.MaxPool2d(2, 2), \n",
    "    nn.Conv2d(4, 10, 5), nn.ReLU(), nn.MaxPool2d(2, 2),\n",
    "    nn.Flatten(), \n",
    "    nn.Linear(4*4*10, 100),    \n",
    "    nn.Linear(100, 10)\n",
    ")\n",
    "# Step 2a: Define the loss function and the optimizer\n",
    "\n",
    "criterion = nn.CrossEntropyLoss()\n",
    "optimizer = optim.Adam(model.parameters(), lr=0.01)\n",
    "\n",
    "# Step 3: Create the ART classifier\n",
    "\n",
    "classifier = PyTorchClassifier(\n",
    "    model=model,\n",
    "    clip_values=(min_pixel_value, max_pixel_value),\n",
    "    loss=criterion,\n",
    "    optimizer=optimizer,\n",
    "    input_shape=(1, 28, 28),\n",
    "    nb_classes=10,\n",
    ")\n",
    "\n",
    "# Step 4: Train the ART classifier\n",
    "\n",
    "classifier.fit(x_train, y_train, batch_size=64, nb_epochs=3)\n",
    "\n",
    "# Step 5: Evaluate the ART classifier on benign test examples\n",
    "\n",
    "predictions = classifier.predict(x_test)\n",
    "accuracy = np.sum(np.argmax(predictions, axis=1) == np.argmax(y_test, axis=1)) / len(y_test)\n",
    "print(\"Accuracy on benign test examples: {}%\".format(accuracy * 100))\n",
    "\n",
    "# Step 6: Generate adversarial test examples\n",
    "#ttack = FeatureAdversariesPyTorch(classifier, layer=7,delta=10/255, step_size=0.1, max_iter=50)\n",
    "from torch.optim import LBFGS, SGD, Adam\n",
    "\n",
    "\n",
    "attack = FeatureAdversariesPyTorch(classifier, layer=7, delta=61/255, optimizer=Adam,\n",
    "                                   optimizer_kwargs={\"lr\": 0.01},\n",
    "                                   lambda_=1.0, max_iter=100, random_start=True)\n",
    "# # LBFGS variant\n",
    "# attack = FeatureAdversariesPyTorch(classifier, layer=7, delta=35.5/255, optimizer=LBFGS,\n",
    "#                                    optimizer_kwargs={\"lr\": 1, \"max_iter\": 20},\n",
    "#                                    lambda_=1.0, max_iter=50)\n",
    "\n",
    "#PGD variant\n",
    "# attack = FeatureAdversariesPyTorch(classifier, layer=7, delta=35/255, optimizer=None,\n",
    "#                                    lambda_=0.0, step_size=1/255, max_iter=100)\n",
    "\n",
    "valid = np.argmax(y_test, axis=1)[:100] != np.argmax(y_test, axis=1)[100:200]\n",
    "source = x_test[:100][valid][:32]\n",
    "guide = x_test[100:200][valid][:32]\n",
    "\n",
    "#x_test_adv = attack._generate_batch(torch.tensor(source), torch.tensor(guide))\n",
    "#x_test_adv = x_test_adv.detach().cpu().numpy()\n",
    "x_test_adv = attack.generate(source, guide)\n",
    "\n",
    "# Step 7: Evaluate the ART classifier on adversarial test examples\n",
    "\n",
    "predictions = classifier.predict(x_test_adv)\n",
    "accuracy = np.sum(np.argmax(predictions, axis=1) == np.argmax(y_test[:100][valid][:32], axis=1)) / len(y_test[:100][valid][:32])\n",
    "print(\"Accuracy on adversarial test batch: {}%\".format(accuracy * 100))\n"
   ]
  },
  {
   "cell_type": "code",
   "execution_count": 2,
   "id": "756b2729",
   "metadata": {},
   "outputs": [],
   "source": [
    "import matplotlib.pyplot as plt\n",
    "\n",
    "# orig labels\n",
    "#np.argmax(y_test[range(0,11,2)], axis=1)\n",
    "\n",
    "# guide labels\n",
    "#np.argmax(y_test[range(100,111,2)], axis=1)"
   ]
  },
  {
   "cell_type": "code",
   "execution_count": 3,
   "id": "559a58f9",
   "metadata": {},
   "outputs": [
    {
     "data": {
      "text/plain": [
       "<matplotlib.image.AxesImage at 0x7f4f5030e280>"
      ]
     },
     "execution_count": 3,
     "metadata": {},
     "output_type": "execute_result"
    },
    {
     "data": {
      "image/png": "[encoded data removed]",
      "text/plain": [
       "<Figure size 432x288 with 1 Axes>"
      ]
     },
     "metadata": {
      "needs_background": "light"
     },
     "output_type": "display_data"
    }
   ],
   "source": [
    "# orig 7, guide 6\n",
    "plt.imshow(x_test_adv[0,...].squeeze())"
   ]
  },
  {
   "cell_type": "code",
   "execution_count": 4,
   "id": "712be2d7",
   "metadata": {},
   "outputs": [
    {
     "data": {
      "text/plain": [
       "<matplotlib.image.AxesImage at 0x7f4f50279730>"
      ]
     },
     "execution_count": 4,
     "metadata": {},
     "output_type": "execute_result"
    },
    {
     "data": {
      "image/png": "[encoded data removed]",
      "text/plain": [
       "<Figure size 432x288 with 1 Axes>"
      ]
     },
     "metadata": {
      "needs_background": "light"
     },
     "output_type": "display_data"
    }
   ],
   "source": [
    "# orig 1, guide 5\n",
    "plt.imshow(x_test_adv[2,...].squeeze())"
   ]
  },
  {
   "cell_type": "code",
   "execution_count": 5,
   "id": "beb81260",
   "metadata": {},
   "outputs": [
    {
     "data": {
      "text/plain": [
       "<matplotlib.image.AxesImage at 0x7f4f501e4670>"
      ]
     },
     "execution_count": 5,
     "metadata": {},
     "output_type": "execute_result"
    },
    {
     "data": {
      "image/png": "[encoded data removed]",
      "text/plain": [
       "<Figure size 432x288 with 1 Axes>"
      ]
     },
     "metadata": {
      "needs_background": "light"
     },
     "output_type": "display_data"
    }
   ],
   "source": [
    "# orig 4, guide 9\n",
    "plt.imshow(x_test_adv[4,...].squeeze())"
   ]
  },
  {
   "cell_type": "code",
   "execution_count": 6,
   "id": "f54429dc",
   "metadata": {},
   "outputs": [
    {
     "data": {
      "text/plain": [
       "<matplotlib.image.AxesImage at 0x7f4f50145c10>"
      ]
     },
     "execution_count": 6,
     "metadata": {},
     "output_type": "execute_result"
    },
    {
     "data": {
      "image/png": "[encoded data removed]",
      "text/plain": [
       "<Figure size 432x288 with 1 Axes>"
      ]
     },
     "metadata": {
      "needs_background": "light"
     },
     "output_type": "display_data"
    }
   ],
   "source": [
    "# orig 4, guide 2\n",
    "plt.imshow(x_test_adv[6,...].squeeze())"
   ]
  },
  {
   "cell_type": "code",
   "execution_count": 7,
   "id": "bdc67d04",
   "metadata": {},
   "outputs": [
    {
     "data": {
      "text/plain": [
       "<matplotlib.image.AxesImage at 0x7f4f50133130>"
      ]
     },
     "execution_count": 7,
     "metadata": {},
     "output_type": "execute_result"
    },
    {
     "data": {
      "image/png": "[encoded data removed]",
      "text/plain": [
       "<Figure size 432x288 with 1 Axes>"
      ]
     },
     "metadata": {
      "needs_background": "light"
     },
     "output_type": "display_data"
    }
   ],
   "source": [
    "# orig 5, guide 9\n",
    "plt.imshow(x_test_adv[8,...].squeeze())"
   ]
  },
  {
   "cell_type": "code",
   "execution_count": 8,
   "id": "055965c7",
   "metadata": {},
   "outputs": [
    {
     "data": {
      "text/plain": [
       "<matplotlib.image.AxesImage at 0x7f4f5008be50>"
      ]
     },
     "execution_count": 8,
     "metadata": {},
     "output_type": "execute_result"
    },
    {
     "data": {
      "image/png": "[encoded data removed]",
      "text/plain": [
       "<Figure size 432x288 with 1 Axes>"
      ]
     },
     "metadata": {
      "needs_background": "light"
     },
     "output_type": "display_data"
    }
   ],
   "source": [
    "# orig 0, guide 8\n",
    "plt.imshow(x_test_adv[10,...].squeeze())"
   ]
  },
  {
   "cell_type": "code",
   "execution_count": 9,
   "id": "4f5a0b0a",
   "metadata": {},
   "outputs": [],
   "source": [
    "# \"\"\"\n",
    "# The script demonstrates a simple example of using ART with PyTorch. The example train a small model on the MNIST dataset\n",
    "# and creates adversarial examples using the Fast Gradient Sign Method. Here we use the ART classifier to train the model,\n",
    "# it would also be possible to provide a pretrained model to the ART classifier.\n",
    "# The parameters are chosen for reduced computational requirements of the script and not optimised for accuracy.\n",
    "# \"\"\"\n",
    "# import torch\n",
    "# import torch.nn as nn\n",
    "# import torch.nn.functional as F\n",
    "# import torch.optim as optim\n",
    "# import numpy as np\n",
    "\n",
    "# from art.attacks.evasion import FeatureAdversaries\n",
    "# from art.estimators.classification import PyTorchClassifier\n",
    "# from art.utils import load_mnist\n",
    "\n",
    "\n",
    "# # Step 1: Load the MNIST dataset\n",
    "\n",
    "# (x_train, y_train), (x_test, y_test), min_pixel_value, max_pixel_value = load_mnist()\n",
    "\n",
    "# # Step 1a: Swap axes to PyTorch's NCHW format\n",
    "\n",
    "# x_train = np.transpose(x_train, (0, 3, 1, 2)).astype(np.float32)\n",
    "# x_test = np.transpose(x_test, (0, 3, 1, 2)).astype(np.float32)\n",
    "\n",
    "# # Step 2: Create the model\n",
    "\n",
    "# model = nn.Sequential(\n",
    "#     nn.Conv2d(1, 4, 5), nn.ReLU(), nn.MaxPool2d(2, 2), \n",
    "#     nn.Conv2d(4, 10, 5), nn.ReLU(), nn.MaxPool2d(2, 2),\n",
    "\n",
    "#     nn.Flatten(), \n",
    "#     nn.Linear(4*4*10, 100),    \n",
    "#     nn.Linear(100, 10)\n",
    "# )\n",
    "# # Step 2a: Define the loss function and the optimizer\n",
    "\n",
    "# criterion = nn.CrossEntropyLoss()\n",
    "# optimizer = optim.Adam(model.parameters(), lr=0.01)\n",
    "\n",
    "# # Step 3: Create the ART classifier\n",
    "\n",
    "# classifier = PyTorchClassifier(\n",
    "#     model=model,\n",
    "#     clip_values=(min_pixel_value, max_pixel_value),\n",
    "#     loss=criterion,\n",
    "#     optimizer=optimizer,\n",
    "#     input_shape=(1, 28, 28),\n",
    "#     nb_classes=10,\n",
    "# )\n",
    "\n",
    "# # Step 4: Train the ART classifier\n",
    "\n",
    "# classifier.fit(x_train, y_train, batch_size=64, nb_epochs=3)\n",
    "\n",
    "# # Step 5: Evaluate the ART classifier on benign test examples\n",
    "\n",
    "# predictions = classifier.predict(x_test)\n",
    "# accuracy = np.sum(np.argmax(predictions, axis=1) == np.argmax(y_test, axis=1)) / len(y_test)\n",
    "# print(\"Accuracy on benign test examples: {}%\".format(accuracy * 100))\n",
    "\n",
    "# # Step 6: Generate adversarial test examples\n",
    "# attack = FeatureAdversaries(classifier, layer=3, delta=10/255)\n",
    "\n",
    "# valid = np.argmax(y_test, axis=1)[:100] != np.argmax(y_test, axis=1)[100:200]\n",
    "# source = x_test[:100][valid][:32]\n",
    "# guide = x_test[100:200][valid][:32]\n",
    "\n",
    "# # note: choose maxiter=2000 (default, 20) according to paper code\n",
    "# x_test_adv = attack.generate(source, guide, maxiter=2000).astype(np.float32)\n",
    "\n",
    "# # Step 7: Evaluate the ART classifier on adversarial test examples\n",
    "\n",
    "# predictions = classifier.predict(x_test_adv)\n",
    "# accuracy = np.sum(np.argmax(predictions, axis=1) == np.argmax(y_test[:100][valid][:32], axis=1)) / len(y_test[:100][valid][:32])\n",
    "# print(\"Accuracy on adversarial test batch: {}%\".format(accuracy * 100))\n"
   ]
  },
  {
   "cell_type": "code",
   "execution_count": 10,
   "id": "4ec7fe94",
   "metadata": {},
   "outputs": [],
   "source": [
    "# import matplotlib.pyplot as plt\n",
    "\n",
    "# # orig 7, guide 6\n",
    "# plt.imshow(x_test_adv[0,...].squeeze())"
   ]
  },
  {
   "cell_type": "code",
   "execution_count": 11,
   "id": "9fdcd683",
   "metadata": {},
   "outputs": [],
   "source": [
    "# # orig 1, guide 5\n",
    "# plt.imshow(x_test_adv[2,...].squeeze())"
   ]
  },
  {
   "cell_type": "code",
   "execution_count": 12,
   "id": "334e8799",
   "metadata": {},
   "outputs": [],
   "source": [
    "# # orig 4, guide 9\n",
    "# plt.imshow(x_test_adv[4,...].squeeze())"
   ]
  },
  {
   "cell_type": "code",
   "execution_count": 13,
   "id": "ea200927",
   "metadata": {},
   "outputs": [],
   "source": [
    "# # orig 4, guide 2\n",
    "# plt.imshow(x_test_adv[6,...].squeeze())"
   ]
  },
  {
   "cell_type": "code",
   "execution_count": 14,
   "id": "fc0b5ebd",
   "metadata": {},
   "outputs": [],
   "source": [
    "# # orig 5, guide 9\n",
    "# plt.imshow(x_test_adv[8,...].squeeze())"
   ]
  },
  {
   "cell_type": "code",
   "execution_count": 15,
   "id": "2c84e426",
   "metadata": {},
   "outputs": [],
   "source": [
    "# # orig 0, guide 8\n",
    "# plt.imshow(x_test_adv[10,...].squeeze())"
   ]
  },
  {
   "cell_type": "code",
   "execution_count": null,
   "id": "7cbeacfb",
   "metadata": {},
   "outputs": [],
   "source": []
  }
 ],
 "metadata": {
  "kernelspec": {
   "display_name": "Python 3",
   "language": "python",
   "name": "python3"
  },
  "language_info": {
   "codemirror_mode": {
    "name": "ipython",
    "version": 3
   },
   "file_extension": ".py",
   "mimetype": "text/x-python",
   "name": "python",
   "nbconvert_exporter": "python",
   "pygments_lexer": "ipython3",
   "version": "3.8.10"
  }
 },
 "nbformat": 4,
 "nbformat_minor": 5
}
