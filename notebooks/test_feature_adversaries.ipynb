{
 "cells": [
  {
   "cell_type": "code",
   "execution_count": 1,
   "id": "5cae23f7",
   "metadata": {},
   "outputs": [
    {
     "name": "stdout",
     "output_type": "stream",
     "text": [
      "Accuracy on benign test examples: 96.34%\n"
     ]
    },
    {
     "data": {
      "application/vnd.jupyter.widget-view+json": {
       "model_id": "3a0e7e510175498d974f68ccb6ede94e",
       "version_major": 2,
       "version_minor": 0
      },
      "text/plain": [
       "Adversarial Patch TensorFlow v2:   0%|          | 0/100 [00:00<?, ?it/s]"
      ]
     },
     "metadata": {},
     "output_type": "display_data"
    },
    {
     "name": "stdout",
     "output_type": "stream",
     "text": [
      "Iter 0, loss 108.28544616699219, constraint 1.422126054763794\n",
      "Iter 1, loss 47.020118713378906, constraint 1.4467110633850098\n",
      "Iter 2, loss 34.12235641479492, constraint 1.4004626274108887\n",
      "Iter 3, loss 27.524707794189453, constraint 1.338158130645752\n",
      "Iter 4, loss 25.178546905517578, constraint 1.3000271320343018\n",
      "Iter 5, loss 23.598146438598633, constraint 1.2560021877288818\n",
      "Iter 6, loss 22.714370727539062, constraint 1.2198078632354736\n",
      "Iter 7, loss 21.2851619720459, constraint 1.2023142576217651\n",
      "Iter 8, loss 20.908634185791016, constraint 1.172581434249878\n",
      "Iter 9, loss 20.41781234741211, constraint 1.1559045314788818\n",
      "Iter 10, loss 19.976520538330078, constraint 1.1344327926635742\n",
      "Iter 11, loss 19.881742477416992, constraint 1.1144107580184937\n",
      "Iter 12, loss 19.823238372802734, constraint 1.0966764688491821\n",
      "Iter 13, loss 19.601564407348633, constraint 1.0800673961639404\n",
      "Iter 14, loss 19.11903190612793, constraint 1.07847261428833\n",
      "Iter 15, loss 18.79393768310547, constraint 1.0618821382522583\n",
      "Iter 16, loss 18.733646392822266, constraint 1.0471972227096558\n",
      "Iter 17, loss 18.50265121459961, constraint 1.0435383319854736\n",
      "Iter 18, loss 18.149578094482422, constraint 1.046706199645996\n",
      "Iter 19, loss 17.240175247192383, constraint 1.04500412940979\n",
      "Iter 20, loss 17.13932228088379, constraint 1.0317271947860718\n",
      "Iter 21, loss 17.077795028686523, constraint 1.0193486213684082\n",
      "Iter 22, loss 17.008220672607422, constraint 1.0080358982086182\n",
      "Iter 23, loss 16.970300674438477, constraint 1.0014348030090332\n",
      "Iter 24, loss 16.955108642578125, constraint 0.9953333735466003\n",
      "Iter 25, loss 16.944107055664062, constraint 0.9908604025840759\n",
      "Iter 26, loss 16.911956787109375, constraint 0.9866319894790649\n",
      "Iter 27, loss 16.727571487426758, constraint 0.9867228865623474\n",
      "Iter 28, loss 16.59933853149414, constraint 0.97962486743927\n",
      "Iter 29, loss 16.463665008544922, constraint 0.9735323190689087\n",
      "Iter 30, loss 16.336181640625, constraint 0.9662970304489136\n",
      "Iter 31, loss 16.15699577331543, constraint 0.9755762815475464\n",
      "Iter 32, loss 15.890324592590332, constraint 0.9744668006896973\n",
      "Iter 33, loss 15.741469383239746, constraint 0.9614715576171875\n",
      "Iter 34, loss 15.700288772583008, constraint 0.9535103440284729\n",
      "Iter 35, loss 15.684052467346191, constraint 0.9482854008674622\n",
      "Iter 36, loss 15.672368049621582, constraint 0.9448506236076355\n",
      "Iter 37, loss 15.657363891601562, constraint 0.9412496089935303\n",
      "Iter 38, loss 15.64670467376709, constraint 0.9375637173652649\n",
      "Iter 39, loss 15.60457706451416, constraint 0.9351240396499634\n",
      "Iter 40, loss 15.5760498046875, constraint 0.932132363319397\n",
      "Iter 41, loss 15.564424514770508, constraint 0.9289828538894653\n",
      "Iter 42, loss 15.525642395019531, constraint 0.9278594851493835\n",
      "Iter 43, loss 15.460392951965332, constraint 0.9259136915206909\n",
      "Iter 44, loss 15.447263717651367, constraint 0.9233458042144775\n",
      "Iter 45, loss 15.433594703674316, constraint 0.9206724762916565\n",
      "Iter 46, loss 15.420372009277344, constraint 0.9185855388641357\n",
      "Iter 47, loss 15.410526275634766, constraint 0.9160670042037964\n",
      "Iter 48, loss 15.405143737792969, constraint 0.9139126539230347\n",
      "Iter 49, loss 15.382829666137695, constraint 0.912878155708313\n",
      "Iter 50, loss 15.351102828979492, constraint 0.9117828011512756\n",
      "Iter 51, loss 15.340583801269531, constraint 0.9088146090507507\n",
      "Iter 52, loss 15.2860107421875, constraint 0.9159067869186401\n",
      "Iter 53, loss 15.229942321777344, constraint 0.909573495388031\n",
      "Iter 54, loss 15.257549285888672, constraint 0.9112539291381836\n",
      "Iter 55, loss 15.13243579864502, constraint 0.9056718945503235\n",
      "Iter 56, loss 15.081393241882324, constraint 0.9038536548614502\n",
      "Iter 57, loss 15.056229591369629, constraint 0.9007121920585632\n",
      "Iter 58, loss 15.037376403808594, constraint 0.8982138633728027\n",
      "Iter 59, loss 15.022332191467285, constraint 0.8959932923316956\n",
      "Iter 60, loss 15.004985809326172, constraint 0.894326388835907\n",
      "Iter 61, loss 14.976216316223145, constraint 0.8941117525100708\n",
      "Iter 62, loss 12.935465812683105, constraint 0.9305843114852905\n",
      "Iter 63, loss 12.12629508972168, constraint 0.9229801297187805\n",
      "Iter 64, loss 12.040388107299805, constraint 0.9108331203460693\n",
      "Iter 65, loss 12.011213302612305, constraint 0.9033044576644897\n",
      "Iter 66, loss 11.999242782592773, constraint 0.8986077308654785\n",
      "Iter 67, loss 11.9923734664917, constraint 0.8957781195640564\n",
      "Iter 68, loss 11.988367080688477, constraint 0.894085705280304\n",
      "Iter 69, loss 11.984942436218262, constraint 0.8920420408248901\n",
      "Iter 70, loss 11.982633590698242, constraint 0.8905166983604431\n",
      "Iter 71, loss 11.98047161102295, constraint 0.8889056444168091\n",
      "Iter 72, loss 11.97872257232666, constraint 0.8875585198402405\n",
      "Iter 73, loss 11.972973823547363, constraint 0.8857806921005249\n",
      "Iter 74, loss 11.967622756958008, constraint 0.884245753288269\n",
      "Iter 75, loss 11.962891578674316, constraint 0.8826376795768738\n",
      "Iter 76, loss 11.959915161132812, constraint 0.8814259171485901\n",
      "Iter 77, loss 11.957569122314453, constraint 0.8802751898765564\n",
      "Iter 78, loss 11.955062866210938, constraint 0.8792715072631836\n",
      "Iter 79, loss 11.951752662658691, constraint 0.8783235549926758\n",
      "Iter 80, loss 11.943896293640137, constraint 0.8774430751800537\n",
      "Iter 81, loss 11.936347961425781, constraint 0.8762344717979431\n",
      "Iter 82, loss 11.932710647583008, constraint 0.8750896453857422\n",
      "Iter 83, loss 11.92375373840332, constraint 0.8748127818107605\n",
      "Iter 84, loss 11.912114143371582, constraint 0.8734266757965088\n",
      "Iter 85, loss 11.906715393066406, constraint 0.8724556565284729\n",
      "Iter 86, loss 11.904109954833984, constraint 0.871484637260437\n",
      "Iter 87, loss 11.90202808380127, constraint 0.870642900466919\n",
      "Iter 88, loss 11.900402069091797, constraint 0.8698724508285522\n",
      "Iter 89, loss 11.897071838378906, constraint 0.8690463900566101\n",
      "Iter 90, loss 11.89543628692627, constraint 0.868407666683197\n",
      "Iter 91, loss 11.894096374511719, constraint 0.8678581118583679\n",
      "Iter 92, loss 11.892230033874512, constraint 0.8673111796379089\n",
      "Iter 93, loss 11.879709243774414, constraint 0.8669679164886475\n",
      "Iter 94, loss 11.874490737915039, constraint 0.8659030795097351\n",
      "Iter 95, loss 11.871323585510254, constraint 0.8648443818092346\n",
      "Iter 96, loss 11.86946964263916, constraint 0.8641559481620789\n",
      "Iter 97, loss 11.868071556091309, constraint 0.863525390625\n",
      "Iter 98, loss 11.866005897521973, constraint 0.862913966178894\n",
      "Iter 99, loss 11.80180835723877, constraint 0.8648205399513245\n",
      "Accuracy on adversarial test batch: 0.0%\n"
     ]
    }
   ],
   "source": [
    "\"\"\"\n",
    "The script demonstrates a simple example of using ART with PyTorch. The example train a small model on the MNIST dataset\n",
    "and creates adversarial examples using the Fast Gradient Sign Method. Here we use the ART classifier to train the model,\n",
    "it would also be possible to provide a pretrained model to the ART classifier.\n",
    "The parameters are chosen for reduced computational requirements of the script and not optimised for accuracy.\n",
    "\"\"\"\n",
    "import torch\n",
    "import torch.nn as nn\n",
    "import torch.nn.functional as F\n",
    "import torch.optim as optim\n",
    "import numpy as np\n",
    "\n",
    "from art.attacks.evasion import FeatureAdversariesPyTorch\n",
    "from art.estimators.classification import PyTorchClassifier\n",
    "from art.utils import load_mnist\n",
    "\n",
    "\n",
    "# Step 1: Load the MNIST dataset\n",
    "\n",
    "(x_train, y_train), (x_test, y_test), min_pixel_value, max_pixel_value = load_mnist()\n",
    "\n",
    "# Step 1a: Swap axes to PyTorch's NCHW format\n",
    "\n",
    "x_train = np.transpose(x_train, (0, 3, 1, 2)).astype(np.float32)\n",
    "x_test = np.transpose(x_test, (0, 3, 1, 2)).astype(np.float32)\n",
    "\n",
    "# Step 2: Create the model\n",
    "\n",
    "model = nn.Sequential(\n",
    "    nn.Conv2d(1, 4, 5), nn.ReLU(), nn.MaxPool2d(2, 2), \n",
    "    nn.Conv2d(4, 10, 5), nn.ReLU(), nn.MaxPool2d(2, 2),\n",
    "\n",
    "    nn.Flatten(), \n",
    "    nn.Linear(4*4*10, 100),    \n",
    "    nn.Linear(100, 10)\n",
    ")\n",
    "# Step 2a: Define the loss function and the optimizer\n",
    "\n",
    "criterion = nn.CrossEntropyLoss()\n",
    "optimizer = optim.Adam(model.parameters(), lr=0.01)\n",
    "\n",
    "# Step 3: Create the ART classifier\n",
    "\n",
    "classifier = PyTorchClassifier(\n",
    "    model=model,\n",
    "    clip_values=(min_pixel_value, max_pixel_value),\n",
    "    loss=criterion,\n",
    "    optimizer=optimizer,\n",
    "    input_shape=(1, 28, 28),\n",
    "    nb_classes=10,\n",
    ")\n",
    "\n",
    "# Step 4: Train the ART classifier\n",
    "\n",
    "classifier.fit(x_train, y_train, batch_size=64, nb_epochs=3)\n",
    "\n",
    "# Step 5: Evaluate the ART classifier on benign test examples\n",
    "\n",
    "predictions = classifier.predict(x_test)\n",
    "accuracy = np.sum(np.argmax(predictions, axis=1) == np.argmax(y_test, axis=1)) / len(y_test)\n",
    "print(\"Accuracy on benign test examples: {}%\".format(accuracy * 100))\n",
    "\n",
    "# Step 6: Generate adversarial test examples\n",
    "attack = FeatureAdversariesPyTorch(classifier, layer=3, delta=10/255)\n",
    "\n",
    "valid = np.argmax(y_test, axis=1)[:100] != np.argmax(y_test, axis=1)[100:200]\n",
    "source = x_test[:100][valid][:32]\n",
    "guide = x_test[100:200][valid][:32]\n",
    "\n",
    "#x_test_adv = attack._generate_batch(torch.tensor(source), torch.tensor(guide))\n",
    "#x_test_adv = x_test_adv.detach().cpu().numpy()\n",
    "x_test_adv = attack.generate(source, guide)\n",
    "\n",
    "# Step 7: Evaluate the ART classifier on adversarial test examples\n",
    "\n",
    "predictions = classifier.predict(x_test_adv)\n",
    "accuracy = np.sum(np.argmax(predictions, axis=1) == np.argmax(y_test[:100][valid][:32], axis=1)) / len(y_test[:100][valid][:32])\n",
    "print(\"Accuracy on adversarial test batch: {}%\".format(accuracy * 100))\n"
   ]
  },
  {
   "cell_type": "code",
   "execution_count": 2,
   "id": "756b2729",
   "metadata": {},
   "outputs": [],
   "source": [
    "import matplotlib.pyplot as plt\n",
    "\n",
    "# orig labels\n",
    "#np.argmax(y_test[range(0,11,2)], axis=1)\n",
    "\n",
    "# guide labels\n",
    "#np.argmax(y_test[range(100,111,2)], axis=1)"
   ]
  },
  {
   "cell_type": "code",
   "execution_count": 3,
   "id": "559a58f9",
   "metadata": {},
   "outputs": [
    {
     "data": {
      "text/plain": [
       "<matplotlib.image.AxesImage at 0x7f1959623b50>"
      ]
     },
     "execution_count": 3,
     "metadata": {},
     "output_type": "execute_result"
    },
    {
     "data": {
      "image/png": "[encoded data removed]",
      "text/plain": [
       "<Figure size 432x288 with 1 Axes>"
      ]
     },
     "metadata": {
      "needs_background": "light"
     },
     "output_type": "display_data"
    }
   ],
   "source": [
    "# orig 7, guide 6\n",
    "plt.imshow(x_test_adv[0,...].squeeze())"
   ]
  },
  {
   "cell_type": "code",
   "execution_count": 4,
   "id": "712be2d7",
   "metadata": {},
   "outputs": [
    {
     "data": {
      "text/plain": [
       "<matplotlib.image.AxesImage at 0x7f195951ea30>"
      ]
     },
     "execution_count": 4,
     "metadata": {},
     "output_type": "execute_result"
    },
    {
     "data": {
      "image/png": "[encoded data removed]",
      "text/plain": [
       "<Figure size 432x288 with 1 Axes>"
      ]
     },
     "metadata": {
      "needs_background": "light"
     },
     "output_type": "display_data"
    }
   ],
   "source": [
    "# orig 1, guide 5\n",
    "plt.imshow(x_test_adv[2,...].squeeze())"
   ]
  },
  {
   "cell_type": "code",
   "execution_count": 5,
   "id": "beb81260",
   "metadata": {},
   "outputs": [
    {
     "data": {
      "text/plain": [
       "<matplotlib.image.AxesImage at 0x7f195948b8b0>"
      ]
     },
     "execution_count": 5,
     "metadata": {},
     "output_type": "execute_result"
    },
    {
     "data": {
      "image/png": "[encoded data removed]",
      "text/plain": [
       "<Figure size 432x288 with 1 Axes>"
      ]
     },
     "metadata": {
      "needs_background": "light"
     },
     "output_type": "display_data"
    }
   ],
   "source": [
    "# orig 4, guide 9\n",
    "plt.imshow(x_test_adv[4,...].squeeze())"
   ]
  },
  {
   "cell_type": "code",
   "execution_count": 6,
   "id": "f54429dc",
   "metadata": {},
   "outputs": [
    {
     "data": {
      "text/plain": [
       "<matplotlib.image.AxesImage at 0x7f195946de20>"
      ]
     },
     "execution_count": 6,
     "metadata": {},
     "output_type": "execute_result"
    },
    {
     "data": {
      "image/png": "[encoded data removed]",
      "text/plain": [
       "<Figure size 432x288 with 1 Axes>"
      ]
     },
     "metadata": {
      "needs_background": "light"
     },
     "output_type": "display_data"
    }
   ],
   "source": [
    "# orig 4, guide 2\n",
    "plt.imshow(x_test_adv[6,...].squeeze())"
   ]
  },
  {
   "cell_type": "code",
   "execution_count": 7,
   "id": "bdc67d04",
   "metadata": {},
   "outputs": [
    {
     "data": {
      "text/plain": [
       "<matplotlib.image.AxesImage at 0x7f19593d5550>"
      ]
     },
     "execution_count": 7,
     "metadata": {},
     "output_type": "execute_result"
    },
    {
     "data": {
      "image/png": "[encoded data removed]",
      "text/plain": [
       "<Figure size 432x288 with 1 Axes>"
      ]
     },
     "metadata": {
      "needs_background": "light"
     },
     "output_type": "display_data"
    }
   ],
   "source": [
    "# orig 5, guide 9\n",
    "plt.imshow(x_test_adv[8,...].squeeze())"
   ]
  },
  {
   "cell_type": "code",
   "execution_count": 8,
   "id": "055965c7",
   "metadata": {},
   "outputs": [
    {
     "data": {
      "text/plain": [
       "<matplotlib.image.AxesImage at 0x7f19593bc3a0>"
      ]
     },
     "execution_count": 8,
     "metadata": {},
     "output_type": "execute_result"
    },
    {
     "data": {
      "image/png": "[encoded data removed]",
      "text/plain": [
       "<Figure size 432x288 with 1 Axes>"
      ]
     },
     "metadata": {
      "needs_background": "light"
     },
     "output_type": "display_data"
    }
   ],
   "source": [
    "# orig 0, guide 8\n",
    "plt.imshow(x_test_adv[10,...].squeeze())"
   ]
  },
  {
   "cell_type": "code",
   "execution_count": 9,
   "id": "4f5a0b0a",
   "metadata": {},
   "outputs": [
    {
     "name": "stdout",
     "output_type": "stream",
     "text": [
      "Accuracy on benign test examples: 96.55%\n",
      "Accuracy on adversarial test batch: 100.0%\n"
     ]
    }
   ],
   "source": [
    "\"\"\"\n",
    "The script demonstrates a simple example of using ART with PyTorch. The example train a small model on the MNIST dataset\n",
    "and creates adversarial examples using the Fast Gradient Sign Method. Here we use the ART classifier to train the model,\n",
    "it would also be possible to provide a pretrained model to the ART classifier.\n",
    "The parameters are chosen for reduced computational requirements of the script and not optimised for accuracy.\n",
    "\"\"\"\n",
    "import torch\n",
    "import torch.nn as nn\n",
    "import torch.nn.functional as F\n",
    "import torch.optim as optim\n",
    "import numpy as np\n",
    "\n",
    "from art.attacks.evasion import FeatureAdversaries\n",
    "from art.estimators.classification import PyTorchClassifier\n",
    "from art.utils import load_mnist\n",
    "\n",
    "\n",
    "# Step 1: Load the MNIST dataset\n",
    "\n",
    "(x_train, y_train), (x_test, y_test), min_pixel_value, max_pixel_value = load_mnist()\n",
    "\n",
    "# Step 1a: Swap axes to PyTorch's NCHW format\n",
    "\n",
    "x_train = np.transpose(x_train, (0, 3, 1, 2)).astype(np.float32)\n",
    "x_test = np.transpose(x_test, (0, 3, 1, 2)).astype(np.float32)\n",
    "\n",
    "# Step 2: Create the model\n",
    "\n",
    "model = nn.Sequential(\n",
    "    nn.Conv2d(1, 4, 5), nn.ReLU(), nn.MaxPool2d(2, 2), \n",
    "    nn.Conv2d(4, 10, 5), nn.ReLU(), nn.MaxPool2d(2, 2),\n",
    "\n",
    "    nn.Flatten(), \n",
    "    nn.Linear(4*4*10, 100),    \n",
    "    nn.Linear(100, 10)\n",
    ")\n",
    "# Step 2a: Define the loss function and the optimizer\n",
    "\n",
    "criterion = nn.CrossEntropyLoss()\n",
    "optimizer = optim.Adam(model.parameters(), lr=0.01)\n",
    "\n",
    "# Step 3: Create the ART classifier\n",
    "\n",
    "classifier = PyTorchClassifier(\n",
    "    model=model,\n",
    "    clip_values=(min_pixel_value, max_pixel_value),\n",
    "    loss=criterion,\n",
    "    optimizer=optimizer,\n",
    "    input_shape=(1, 28, 28),\n",
    "    nb_classes=10,\n",
    ")\n",
    "\n",
    "# Step 4: Train the ART classifier\n",
    "\n",
    "classifier.fit(x_train, y_train, batch_size=64, nb_epochs=3)\n",
    "\n",
    "# Step 5: Evaluate the ART classifier on benign test examples\n",
    "\n",
    "predictions = classifier.predict(x_test)\n",
    "accuracy = np.sum(np.argmax(predictions, axis=1) == np.argmax(y_test, axis=1)) / len(y_test)\n",
    "print(\"Accuracy on benign test examples: {}%\".format(accuracy * 100))\n",
    "\n",
    "# Step 6: Generate adversarial test examples\n",
    "attack = FeatureAdversaries(classifier, layer=3, delta=10/255)\n",
    "\n",
    "valid = np.argmax(y_test, axis=1)[:100] != np.argmax(y_test, axis=1)[100:200]\n",
    "source = x_test[:100][valid][:32]\n",
    "guide = x_test[100:200][valid][:32]\n",
    "\n",
    "# note: choose maxiter=2000 (default, 20) according to paper code\n",
    "x_test_adv = attack.generate(source, guide, maxiter=2000).astype(np.float32)\n",
    "\n",
    "# Step 7: Evaluate the ART classifier on adversarial test examples\n",
    "\n",
    "predictions = classifier.predict(x_test_adv)\n",
    "accuracy = np.sum(np.argmax(predictions, axis=1) == np.argmax(y_test[:100][valid][:32], axis=1)) / len(y_test[:100][valid][:32])\n",
    "print(\"Accuracy on adversarial test batch: {}%\".format(accuracy * 100))\n"
   ]
  },
  {
   "cell_type": "code",
   "execution_count": 10,
   "id": "4ec7fe94",
   "metadata": {},
   "outputs": [
    {
     "data": {
      "text/plain": [
       "<matplotlib.image.AxesImage at 0x7f19593110a0>"
      ]
     },
     "execution_count": 10,
     "metadata": {},
     "output_type": "execute_result"
    },
    {
     "data": {
      "image/png": "[encoded data removed]",
      "text/plain": [
       "<Figure size 432x288 with 1 Axes>"
      ]
     },
     "metadata": {
      "needs_background": "light"
     },
     "output_type": "display_data"
    }
   ],
   "source": [
    "import matplotlib.pyplot as plt\n",
    "\n",
    "# orig 7, guide 6\n",
    "plt.imshow(x_test_adv[0,...].squeeze())"
   ]
  },
  {
   "cell_type": "code",
   "execution_count": 11,
   "id": "9fdcd683",
   "metadata": {},
   "outputs": [
    {
     "data": {
      "text/plain": [
       "<matplotlib.image.AxesImage at 0x7f195f0ae5b0>"
      ]
     },
     "execution_count": 11,
     "metadata": {},
     "output_type": "execute_result"
    },
    {
     "data": {
      "image/png": "[encoded data removed]",
      "text/plain": [
       "<Figure size 432x288 with 1 Axes>"
      ]
     },
     "metadata": {
      "needs_background": "light"
     },
     "output_type": "display_data"
    }
   ],
   "source": [
    "# orig 1, guide 5\n",
    "plt.imshow(x_test_adv[2,...].squeeze())"
   ]
  },
  {
   "cell_type": "code",
   "execution_count": 12,
   "id": "334e8799",
   "metadata": {},
   "outputs": [
    {
     "data": {
      "text/plain": [
       "<matplotlib.image.AxesImage at 0x7f195f3a40a0>"
      ]
     },
     "execution_count": 12,
     "metadata": {},
     "output_type": "execute_result"
    },
    {
     "data": {
      "image/png": "[encoded data removed]",
      "text/plain": [
       "<Figure size 432x288 with 1 Axes>"
      ]
     },
     "metadata": {
      "needs_background": "light"
     },
     "output_type": "display_data"
    }
   ],
   "source": [
    "# orig 4, guide 9\n",
    "plt.imshow(x_test_adv[4,...].squeeze())"
   ]
  },
  {
   "cell_type": "code",
   "execution_count": 13,
   "id": "ea200927",
   "metadata": {},
   "outputs": [
    {
     "data": {
      "text/plain": [
       "<matplotlib.image.AxesImage at 0x7f195f4f82b0>"
      ]
     },
     "execution_count": 13,
     "metadata": {},
     "output_type": "execute_result"
    },
    {
     "data": {
      "image/png": "[encoded data removed]",
      "text/plain": [
       "<Figure size 432x288 with 1 Axes>"
      ]
     },
     "metadata": {
      "needs_background": "light"
     },
     "output_type": "display_data"
    }
   ],
   "source": [
    "# orig 4, guide 2\n",
    "plt.imshow(x_test_adv[6,...].squeeze())"
   ]
  },
  {
   "cell_type": "code",
   "execution_count": 14,
   "id": "fc0b5ebd",
   "metadata": {},
   "outputs": [
    {
     "data": {
      "text/plain": [
       "<matplotlib.image.AxesImage at 0x7f195f4157f0>"
      ]
     },
     "execution_count": 14,
     "metadata": {},
     "output_type": "execute_result"
    },
    {
     "data": {
      "image/png": "[encoded data removed]",
      "text/plain": [
       "<Figure size 432x288 with 1 Axes>"
      ]
     },
     "metadata": {
      "needs_background": "light"
     },
     "output_type": "display_data"
    }
   ],
   "source": [
    "# orig 5, guide 9\n",
    "plt.imshow(x_test_adv[8,...].squeeze())"
   ]
  },
  {
   "cell_type": "code",
   "execution_count": 15,
   "id": "2c84e426",
   "metadata": {},
   "outputs": [
    {
     "data": {
      "text/plain": [
       "<matplotlib.image.AxesImage at 0x7f195f3f3f70>"
      ]
     },
     "execution_count": 15,
     "metadata": {},
     "output_type": "execute_result"
    },
    {
     "data": {
      "image/png": "[encoded data removed]",
      "text/plain": [
       "<Figure size 432x288 with 1 Axes>"
      ]
     },
     "metadata": {
      "needs_background": "light"
     },
     "output_type": "display_data"
    }
   ],
   "source": [
    "# orig 0, guide 8\n",
    "plt.imshow(x_test_adv[10,...].squeeze())"
   ]
  },
  {
   "cell_type": "code",
   "execution_count": null,
   "id": "7cbeacfb",
   "metadata": {},
   "outputs": [],
   "source": []
  }
 ],
 "metadata": {
  "kernelspec": {
   "display_name": "Python 3",
   "language": "python",
   "name": "python3"
  },
  "language_info": {
   "codemirror_mode": {
    "name": "ipython",
    "version": 3
   },
   "file_extension": ".py",
   "mimetype": "text/x-python",
   "name": "python",
   "nbconvert_exporter": "python",
   "pygments_lexer": "ipython3",
   "version": "3.8.10"
  }
 },
 "nbformat": 4,
 "nbformat_minor": 5
}
