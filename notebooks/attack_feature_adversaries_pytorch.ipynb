{
 "cells": [
  {
   "cell_type": "markdown",
   "id": "7f959254",
   "metadata": {},
   "source": [
    "# Feature Adversaries Attack in PyTorch\n",
    "\n",
    "Before diving into the attack, let's first prepare a classification model. We utilize a script from the `examples` folders."
   ]
  },
  {
   "cell_type": "code",
   "execution_count": 1,
   "id": "d4de108e",
   "metadata": {},
   "outputs": [
    {
     "name": "stdout",
     "output_type": "stream",
     "text": [
      "Accuracy on benign test examples: 96.75%\n"
     ]
    }
   ],
   "source": [
    "import torch\n",
    "import torch.nn as nn\n",
    "import torch.nn.functional as F\n",
    "import torch.optim as optim\n",
    "import matplotlib.pyplot as plt\n",
    "import numpy as np\n",
    "\n",
    "from art.attacks.evasion import FeatureAdversariesPyTorch\n",
    "from art.estimators.classification import PyTorchClassifier\n",
    "from art.utils import load_mnist\n",
    "\n",
    "\n",
    "# Step 1: Load the MNIST dataset\n",
    "\n",
    "(x_train, y_train), (x_test, y_test), min_pixel_value, max_pixel_value = load_mnist()\n",
    "\n",
    "# Step 1a: Swap axes to PyTorch's NCHW format\n",
    "\n",
    "x_train = np.transpose(x_train, (0, 3, 1, 2)).astype(np.float32)\n",
    "x_test = np.transpose(x_test, (0, 3, 1, 2)).astype(np.float32)\n",
    "\n",
    "# Step 2: Create the model\n",
    "\n",
    "model = nn.Sequential(\n",
    "    nn.Conv2d(1, 4, 5), nn.ReLU(), nn.MaxPool2d(2, 2), \n",
    "    nn.Conv2d(4, 10, 5), nn.ReLU(), nn.MaxPool2d(2, 2),\n",
    "    nn.Flatten(), \n",
    "    nn.Linear(4*4*10, 100),    \n",
    "    nn.Linear(100, 10)\n",
    ")\n",
    "# Step 2a: Define the loss function and the optimizer\n",
    "\n",
    "criterion = nn.CrossEntropyLoss()\n",
    "optimizer = optim.Adam(model.parameters(), lr=0.01)\n",
    "\n",
    "# Step 3: Create the ART classifier\n",
    "\n",
    "classifier = PyTorchClassifier(\n",
    "    model=model,\n",
    "    clip_values=(min_pixel_value, max_pixel_value),\n",
    "    loss=criterion,\n",
    "    optimizer=optimizer,\n",
    "    input_shape=(1, 28, 28),\n",
    "    nb_classes=10,\n",
    ")\n",
    "\n",
    "# Step 4: Train the ART classifier\n",
    "\n",
    "classifier.fit(x_train, y_train, batch_size=64, nb_epochs=3)\n",
    "\n",
    "# Step 5: Evaluate the ART classifier on benign test examples\n",
    "\n",
    "predictions = classifier.predict(x_test)\n",
    "accuracy = np.sum(np.argmax(predictions, axis=1) == np.argmax(y_test, axis=1)) / len(y_test)\n",
    "print(\"Accuracy on benign test examples: {}%\".format(accuracy * 100))"
   ]
  },
  {
   "cell_type": "markdown",
   "id": "8a174860",
   "metadata": {},
   "source": [
    "---\n",
    "\n",
    "## PGD variant of Feature Adversaries\n"
   ]
  },
  {
   "cell_type": "code",
   "execution_count": 2,
   "id": "2bbdefd4",
   "metadata": {},
   "outputs": [],
   "source": [
    "# Step 5: prepare a batch of source and guide images\n",
    "valid = np.argmax(y_test, axis=1)[:100] != np.argmax(y_test, axis=1)[100:200]\n",
    "source = x_test[:100][valid][:32]\n",
    "guide = x_test[100:200][valid][:32]"
   ]
  },
  {
   "cell_type": "code",
   "execution_count": 3,
   "id": "c900ec77",
   "metadata": {
    "scrolled": true
   },
   "outputs": [
    {
     "data": {
      "application/vnd.jupyter.widget-view+json": {
       "model_id": "0be8f49be7344f91a26509d7e0454f7b",
       "version_major": 2,
       "version_minor": 0
      },
      "text/plain": [
       "Feature Adversaries PyTorch:   0%|          | 0/100 [00:00<?, ?it/s]"
      ]
     },
     "metadata": {},
     "output_type": "display_data"
    },
    {
     "name": "stdout",
     "output_type": "stream",
     "text": [
      "Iter 0, loss 460.07373046875, constraint 0.13725492358207703\n",
      "Iter 1, loss 442.9933166503906, constraint 0.13725492358207703\n",
      "Iter 2, loss 427.15289306640625, constraint 0.13725492358207703\n",
      "Iter 3, loss 412.4007263183594, constraint 0.13725492358207703\n",
      "Iter 4, loss 398.47259521484375, constraint 0.13725492358207703\n",
      "Iter 5, loss 385.34161376953125, constraint 0.13725492358207703\n",
      "Iter 6, loss 373.2197265625, constraint 0.13725492358207703\n",
      "Iter 7, loss 361.86944580078125, constraint 0.13725492358207703\n",
      "Iter 8, loss 351.1258239746094, constraint 0.13725492358207703\n",
      "Iter 9, loss 340.8005065917969, constraint 0.13725492358207703\n",
      "Iter 10, loss 331.0624694824219, constraint 0.13725492358207703\n",
      "Iter 11, loss 321.8807373046875, constraint 0.13725492358207703\n",
      "Iter 12, loss 313.2724609375, constraint 0.13725492358207703\n",
      "Iter 13, loss 304.9874572753906, constraint 0.13725492358207703\n",
      "Iter 14, loss 297.5543518066406, constraint 0.13725492358207703\n",
      "Iter 15, loss 290.36572265625, constraint 0.13725492358207703\n",
      "Iter 16, loss 283.785888671875, constraint 0.13725492358207703\n",
      "Iter 17, loss 277.4991455078125, constraint 0.13725492358207703\n",
      "Iter 18, loss 271.5885314941406, constraint 0.13725492358207703\n",
      "Iter 19, loss 265.8902893066406, constraint 0.13725492358207703\n",
      "Iter 20, loss 260.7198486328125, constraint 0.13725492358207703\n",
      "Iter 21, loss 255.65904235839844, constraint 0.13725492358207703\n",
      "Iter 22, loss 250.887451171875, constraint 0.13725492358207703\n",
      "Iter 23, loss 246.18101501464844, constraint 0.13725492358207703\n",
      "Iter 24, loss 241.86318969726562, constraint 0.13725492358207703\n",
      "Iter 25, loss 237.48777770996094, constraint 0.13725492358207703\n",
      "Iter 26, loss 233.75979614257812, constraint 0.13725492358207703\n",
      "Iter 27, loss 229.83840942382812, constraint 0.13725492358207703\n",
      "Iter 28, loss 226.14454650878906, constraint 0.13725492358207703\n",
      "Iter 29, loss 222.86378479003906, constraint 0.13725492358207703\n",
      "Iter 30, loss 219.52134704589844, constraint 0.13725492358207703\n",
      "Iter 31, loss 216.5706024169922, constraint 0.13725492358207703\n",
      "Iter 32, loss 213.64276123046875, constraint 0.13725492358207703\n",
      "Iter 33, loss 210.693359375, constraint 0.13725492358207703\n",
      "Iter 34, loss 208.334228515625, constraint 0.13725492358207703\n",
      "Iter 35, loss 206.50279235839844, constraint 0.13725492358207703\n",
      "Iter 36, loss 204.99847412109375, constraint 0.13725492358207703\n",
      "Iter 37, loss 203.6048583984375, constraint 0.13725492358207703\n",
      "Iter 38, loss 202.32583618164062, constraint 0.13725492358207703\n",
      "Iter 39, loss 201.16265869140625, constraint 0.13725492358207703\n",
      "Iter 40, loss 199.9422149658203, constraint 0.13725492358207703\n",
      "Iter 41, loss 198.78964233398438, constraint 0.13725492358207703\n",
      "Iter 42, loss 197.85922241210938, constraint 0.13725492358207703\n",
      "Iter 43, loss 196.74806213378906, constraint 0.13725492358207703\n",
      "Iter 44, loss 196.1173095703125, constraint 0.13725492358207703\n",
      "Iter 45, loss 195.15989685058594, constraint 0.13725492358207703\n",
      "Iter 46, loss 194.40650939941406, constraint 0.13725492358207703\n",
      "Iter 47, loss 193.70382690429688, constraint 0.13725492358207703\n",
      "Iter 48, loss 193.0699462890625, constraint 0.13725492358207703\n",
      "Iter 49, loss 192.417724609375, constraint 0.13725492358207703\n",
      "Iter 50, loss 191.6382293701172, constraint 0.13725492358207703\n",
      "Iter 51, loss 191.0948944091797, constraint 0.13725492358207703\n",
      "Iter 52, loss 190.3556671142578, constraint 0.13725492358207703\n",
      "Iter 53, loss 189.8828125, constraint 0.13725492358207703\n",
      "Iter 54, loss 189.2236785888672, constraint 0.13725492358207703\n",
      "Iter 55, loss 188.79461669921875, constraint 0.13725492358207703\n",
      "Iter 56, loss 188.28402709960938, constraint 0.13725492358207703\n",
      "Iter 57, loss 187.93740844726562, constraint 0.13725492358207703\n",
      "Iter 58, loss 187.31455993652344, constraint 0.13725492358207703\n",
      "Iter 59, loss 187.01010131835938, constraint 0.13725492358207703\n",
      "Iter 60, loss 186.55035400390625, constraint 0.13725492358207703\n",
      "Iter 61, loss 186.18673706054688, constraint 0.13725492358207703\n",
      "Iter 62, loss 185.7476043701172, constraint 0.13725492358207703\n",
      "Iter 63, loss 185.53575134277344, constraint 0.13725492358207703\n",
      "Iter 64, loss 185.1487579345703, constraint 0.13725492358207703\n",
      "Iter 65, loss 184.84130859375, constraint 0.13725492358207703\n",
      "Iter 66, loss 184.57826232910156, constraint 0.13725492358207703\n",
      "Iter 67, loss 184.33506774902344, constraint 0.13725492358207703\n",
      "Iter 68, loss 184.0433349609375, constraint 0.13725492358207703\n",
      "Iter 69, loss 183.8966522216797, constraint 0.13725492358207703\n",
      "Iter 70, loss 183.5832061767578, constraint 0.13725492358207703\n",
      "Iter 71, loss 183.45822143554688, constraint 0.13725492358207703\n",
      "Iter 72, loss 183.32400512695312, constraint 0.13725492358207703\n",
      "Iter 73, loss 183.1676483154297, constraint 0.13725492358207703\n",
      "Iter 74, loss 182.97195434570312, constraint 0.13725492358207703\n",
      "Iter 75, loss 182.64053344726562, constraint 0.13725492358207703\n",
      "Iter 76, loss 182.531494140625, constraint 0.13725492358207703\n",
      "Iter 77, loss 182.22991943359375, constraint 0.13725492358207703\n",
      "Iter 78, loss 182.31362915039062, constraint 0.13725492358207703\n",
      "Iter 79, loss 181.85765075683594, constraint 0.13725492358207703\n",
      "Iter 80, loss 181.97769165039062, constraint 0.13725492358207703\n",
      "Iter 81, loss 181.63372802734375, constraint 0.13725492358207703\n",
      "Iter 82, loss 181.6941375732422, constraint 0.13725492358207703\n",
      "Iter 83, loss 181.30857849121094, constraint 0.13725492358207703\n",
      "Iter 84, loss 181.37045288085938, constraint 0.13725492358207703\n",
      "Iter 85, loss 181.1145477294922, constraint 0.13725492358207703\n",
      "Iter 86, loss 181.07046508789062, constraint 0.13725492358207703\n",
      "Iter 87, loss 180.92425537109375, constraint 0.13725492358207703\n",
      "Iter 88, loss 180.85484313964844, constraint 0.13725492358207703\n",
      "Iter 89, loss 180.76283264160156, constraint 0.13725492358207703\n",
      "Iter 90, loss 180.6429901123047, constraint 0.13725492358207703\n",
      "Iter 91, loss 180.53622436523438, constraint 0.13725492358207703\n",
      "Iter 92, loss 180.48287963867188, constraint 0.13725492358207703\n",
      "Iter 93, loss 180.37274169921875, constraint 0.13725492358207703\n",
      "Iter 94, loss 180.33168029785156, constraint 0.13725492358207703\n",
      "Iter 95, loss 180.23751831054688, constraint 0.13725492358207703\n",
      "Iter 96, loss 180.16404724121094, constraint 0.13725492358207703\n",
      "Iter 97, loss 180.06170654296875, constraint 0.13725492358207703\n",
      "Iter 98, loss 180.10247802734375, constraint 0.13725492358207703\n",
      "Iter 99, loss 179.92141723632812, constraint 0.13725492358207703\n",
      "Accuracy on adversarial test batch: 43.75%\n",
      "Average perturbation: 0.13725492358207703%\n"
     ]
    }
   ],
   "source": [
    "# Step 6: Generate adversarial test examples\n",
    "attack = FeatureAdversariesPyTorch(\n",
    "    classifier,\n",
    "    layer=7,\n",
    "    delta=35/255,\n",
    "    optimizer=None,\n",
    "    step_size=1/255,\n",
    "    max_iter=100,\n",
    ")\n",
    "x_test_adv = attack.generate(source, guide)\n",
    "\n",
    "# Step 7: Evaluate the ART classifier on adversarial test examples\n",
    "\n",
    "predictions = classifier.predict(x_test_adv)\n",
    "accuracy = np.sum(np.argmax(predictions, axis=1) == np.argmax(y_test[:100][valid][:32], axis=1)) / len(y_test[:100][valid][:32])\n",
    "\n",
    "dim = tuple(range(1, len(source.shape)))\n",
    "pert = np.mean(np.amax(np.abs(source - x_test_adv), axis=dim))\n",
    "print(\"Accuracy on adversarial test batch: {}%\".format(accuracy * 100))\n",
    "print(\"Average perturbation: {}%\".format(pert))"
   ]
  },
  {
   "cell_type": "code",
   "execution_count": 4,
   "id": "68717bc9",
   "metadata": {},
   "outputs": [
    {
     "data": {
      "text/plain": [
       "<matplotlib.image.AxesImage at 0x7f1298312ca0>"
      ]
     },
     "execution_count": 4,
     "metadata": {},
     "output_type": "execute_result"
    },
    {
     "data": {
      "image/png": "[encoded data removed]",
      "text/plain": [
       "<Figure size 432x288 with 1 Axes>"
      ]
     },
     "metadata": {
      "needs_background": "light"
     },
     "output_type": "display_data"
    }
   ],
   "source": [
    "# Step 8: Inspect results\n",
    "\n",
    "# orig 7, guide 6\n",
    "plt.imshow(x_test_adv[0,...].squeeze())"
   ]
  },
  {
   "cell_type": "code",
   "execution_count": 5,
   "id": "5aabd4ae",
   "metadata": {},
   "outputs": [
    {
     "data": {
      "text/plain": [
       "<matplotlib.image.AxesImage at 0x7f1298216640>"
      ]
     },
     "execution_count": 5,
     "metadata": {},
     "output_type": "execute_result"
    },
    {
     "data": {
      "image/png": "[encoded data removed]",
      "text/plain": [
       "<Figure size 432x288 with 1 Axes>"
      ]
     },
     "metadata": {
      "needs_background": "light"
     },
     "output_type": "display_data"
    }
   ],
   "source": [
    "# orig 1, guide 5\n",
    "plt.imshow(x_test_adv[2,...].squeeze())"
   ]
  },
  {
   "cell_type": "code",
   "execution_count": 6,
   "id": "1765536f",
   "metadata": {},
   "outputs": [
    {
     "data": {
      "text/plain": [
       "<matplotlib.image.AxesImage at 0x7f12981fb760>"
      ]
     },
     "execution_count": 6,
     "metadata": {},
     "output_type": "execute_result"
    },
    {
     "data": {
      "image/png": "[encoded data removed]",
      "text/plain": [
       "<Figure size 432x288 with 1 Axes>"
      ]
     },
     "metadata": {
      "needs_background": "light"
     },
     "output_type": "display_data"
    }
   ],
   "source": [
    "# orig 4, guide 9\n",
    "plt.imshow(x_test_adv[4,...].squeeze())"
   ]
  },
  {
   "cell_type": "code",
   "execution_count": 7,
   "id": "1361622b",
   "metadata": {},
   "outputs": [
    {
     "data": {
      "text/plain": [
       "<matplotlib.image.AxesImage at 0x7f12981631f0>"
      ]
     },
     "execution_count": 7,
     "metadata": {},
     "output_type": "execute_result"
    },
    {
     "data": {
      "image/png": "[encoded data removed]",
      "text/plain": [
       "<Figure size 432x288 with 1 Axes>"
      ]
     },
     "metadata": {
      "needs_background": "light"
     },
     "output_type": "display_data"
    }
   ],
   "source": [
    "# orig 4, guide 2\n",
    "plt.imshow(x_test_adv[6,...].squeeze())"
   ]
  },
  {
   "cell_type": "code",
   "execution_count": 8,
   "id": "e6f7cb47",
   "metadata": {},
   "outputs": [
    {
     "data": {
      "text/plain": [
       "<matplotlib.image.AxesImage at 0x7f12981427c0>"
      ]
     },
     "execution_count": 8,
     "metadata": {},
     "output_type": "execute_result"
    },
    {
     "data": {
      "image/png": "[encoded data removed]",
      "text/plain": [
       "<Figure size 432x288 with 1 Axes>"
      ]
     },
     "metadata": {
      "needs_background": "light"
     },
     "output_type": "display_data"
    }
   ],
   "source": [
    "# orig 5, guide 9\n",
    "plt.imshow(x_test_adv[8,...].squeeze())"
   ]
  },
  {
   "cell_type": "code",
   "execution_count": 9,
   "id": "1489dc86",
   "metadata": {},
   "outputs": [
    {
     "data": {
      "text/plain": [
       "<matplotlib.image.AxesImage at 0x7f129809edf0>"
      ]
     },
     "execution_count": 9,
     "metadata": {},
     "output_type": "execute_result"
    },
    {
     "data": {
      "image/png": "[encoded data removed]",
      "text/plain": [
       "<Figure size 432x288 with 1 Axes>"
      ]
     },
     "metadata": {
      "needs_background": "light"
     },
     "output_type": "display_data"
    }
   ],
   "source": [
    "# orig 0, guide 8\n",
    "plt.imshow(x_test_adv[10,...].squeeze())"
   ]
  },
  {
   "cell_type": "markdown",
   "id": "18bc254a",
   "metadata": {},
   "source": [
    "\n",
    "## Unconstraint variant of Feature Adversaries\n",
    "\n",
    "This variant approximates the original hard constraint problem of the paper. Any available PyTorch optimizer can be used. We will use Adam as a good default one.\n"
   ]
  },
  {
   "cell_type": "code",
   "execution_count": 10,
   "id": "70d9fbba",
   "metadata": {},
   "outputs": [
    {
     "data": {
      "application/vnd.jupyter.widget-view+json": {
       "model_id": "2145b124ccac447099313e91459b9ec6",
       "version_major": 2,
       "version_minor": 0
      },
      "text/plain": [
       "Feature Adversaries PyTorch:   0%|          | 0/100 [00:00<?, ?it/s]"
      ]
     },
     "metadata": {},
     "output_type": "display_data"
    },
    {
     "name": "stdout",
     "output_type": "stream",
     "text": [
      "Iter 0, loss 387.0386657714844, constraint 0.24917437136173248\n",
      "Iter 1, loss 353.45654296875, constraint 0.2492292821407318\n",
      "Iter 2, loss 325.9486389160156, constraint 0.24924957752227783\n",
      "Iter 3, loss 302.5616760253906, constraint 0.24927639961242676\n",
      "Iter 4, loss 282.8005676269531, constraint 0.24931132793426514\n",
      "Iter 5, loss 265.73883056640625, constraint 0.2493438720703125\n",
      "Iter 6, loss 250.95675659179688, constraint 0.24937927722930908\n",
      "Iter 7, loss 238.0718536376953, constraint 0.24943456053733826\n",
      "Iter 8, loss 226.84097290039062, constraint 0.2494509220123291\n",
      "Iter 9, loss 216.69740295410156, constraint 0.24953246116638184\n",
      "Iter 10, loss 207.8730010986328, constraint 0.24962997436523438\n",
      "Iter 11, loss 199.91671752929688, constraint 0.24967354536056519\n",
      "Iter 12, loss 192.83303833007812, constraint 0.24977341294288635\n",
      "Iter 13, loss 186.5207061767578, constraint 0.2497834712266922\n",
      "Iter 14, loss 180.76795959472656, constraint 0.2498495876789093\n",
      "Iter 15, loss 175.6815643310547, constraint 0.2499399185180664\n",
      "Iter 16, loss 171.12037658691406, constraint 0.25009429454803467\n",
      "Iter 17, loss 166.94424438476562, constraint 0.2502455711364746\n",
      "Iter 18, loss 163.0505828857422, constraint 0.2503836154937744\n",
      "Iter 19, loss 159.30657958984375, constraint 0.2505064308643341\n",
      "Iter 20, loss 155.74317932128906, constraint 0.25060632824897766\n",
      "Iter 21, loss 152.4827880859375, constraint 0.2506929934024811\n",
      "Iter 22, loss 149.3445281982422, constraint 0.250882089138031\n",
      "Iter 23, loss 146.32373046875, constraint 0.25108301639556885\n",
      "Iter 24, loss 143.52377319335938, constraint 0.2512705326080322\n",
      "Iter 25, loss 140.9359130859375, constraint 0.2513889670372009\n",
      "Iter 26, loss 138.5497283935547, constraint 0.2514285147190094\n",
      "Iter 27, loss 136.36956787109375, constraint 0.2514602839946747\n",
      "Iter 28, loss 134.3343963623047, constraint 0.2516566514968872\n",
      "Iter 29, loss 132.49417114257812, constraint 0.2518269121646881\n",
      "Iter 30, loss 130.71200561523438, constraint 0.25196415185928345\n",
      "Iter 31, loss 129.05812072753906, constraint 0.2521666884422302\n",
      "Iter 32, loss 127.55596923828125, constraint 0.2522803246974945\n",
      "Iter 33, loss 126.13594055175781, constraint 0.2522256672382355\n",
      "Iter 34, loss 124.80397033691406, constraint 0.25227147340774536\n",
      "Iter 35, loss 123.52232360839844, constraint 0.252307653427124\n",
      "Iter 36, loss 122.27201080322266, constraint 0.2524643540382385\n",
      "Iter 37, loss 121.00109100341797, constraint 0.25260648131370544\n",
      "Iter 38, loss 119.63411712646484, constraint 0.2523948848247528\n",
      "Iter 39, loss 118.31868743896484, constraint 0.2526256740093231\n",
      "Iter 40, loss 117.0196762084961, constraint 0.2529381811618805\n",
      "Iter 41, loss 115.7417984008789, constraint 0.2530583441257477\n",
      "Iter 42, loss 114.53294372558594, constraint 0.2532427906990051\n",
      "Iter 43, loss 113.32040405273438, constraint 0.253586083650589\n",
      "Iter 44, loss 112.12300872802734, constraint 0.25388625264167786\n",
      "Iter 45, loss 110.89546203613281, constraint 0.2540220320224762\n",
      "Iter 46, loss 109.65648651123047, constraint 0.25429612398147583\n",
      "Iter 47, loss 108.44806671142578, constraint 0.25455442070961\n",
      "Iter 48, loss 107.35730743408203, constraint 0.25469323992729187\n",
      "Iter 49, loss 106.31668853759766, constraint 0.25489911437034607\n",
      "Iter 50, loss 105.36363983154297, constraint 0.2545314133167267\n",
      "Iter 51, loss 104.40599822998047, constraint 0.2546513080596924\n",
      "Iter 52, loss 103.53218078613281, constraint 0.25487983226776123\n",
      "Iter 53, loss 102.75279235839844, constraint 0.25471556186676025\n",
      "Iter 54, loss 102.02241516113281, constraint 0.25491034984588623\n",
      "Iter 55, loss 101.34333038330078, constraint 0.2551124095916748\n",
      "Iter 56, loss 100.7024154663086, constraint 0.25525015592575073\n",
      "Iter 57, loss 100.07926940917969, constraint 0.2550255060195923\n",
      "Iter 58, loss 99.43092346191406, constraint 0.2551926374435425\n",
      "Iter 59, loss 98.82850646972656, constraint 0.25533515214920044\n",
      "Iter 60, loss 98.2439193725586, constraint 0.2554571032524109\n",
      "Iter 61, loss 97.76806640625, constraint 0.25552964210510254\n",
      "Iter 62, loss 97.29856872558594, constraint 0.2555621266365051\n",
      "Iter 63, loss 96.83612823486328, constraint 0.25592321157455444\n",
      "Iter 64, loss 96.44353485107422, constraint 0.2560165524482727\n",
      "Iter 65, loss 96.0288314819336, constraint 0.2560690939426422\n",
      "Iter 66, loss 95.63766479492188, constraint 0.2560836672782898\n",
      "Iter 67, loss 95.28455352783203, constraint 0.25643375515937805\n",
      "Iter 68, loss 94.91442108154297, constraint 0.2567121088504791\n",
      "Iter 69, loss 94.56063842773438, constraint 0.2569170892238617\n",
      "Iter 70, loss 94.20509338378906, constraint 0.25706353783607483\n",
      "Iter 71, loss 93.85582733154297, constraint 0.25716090202331543\n",
      "Iter 72, loss 93.4960708618164, constraint 0.257365345954895\n",
      "Iter 73, loss 93.13983154296875, constraint 0.2575116455554962\n",
      "Iter 74, loss 92.79962158203125, constraint 0.25774452090263367\n",
      "Iter 75, loss 92.47029113769531, constraint 0.25805723667144775\n",
      "Iter 76, loss 92.15693664550781, constraint 0.25829198956489563\n",
      "Iter 77, loss 91.88473510742188, constraint 0.2584333121776581\n",
      "Iter 78, loss 91.63658905029297, constraint 0.25853803753852844\n",
      "Iter 79, loss 91.3479232788086, constraint 0.2585887908935547\n",
      "Iter 80, loss 91.08100128173828, constraint 0.2585863769054413\n",
      "Iter 81, loss 90.82672119140625, constraint 0.2584911584854126\n",
      "Iter 82, loss 90.58247375488281, constraint 0.25840815901756287\n",
      "Iter 83, loss 90.26361083984375, constraint 0.2586352527141571\n",
      "Iter 84, loss 89.90042877197266, constraint 0.25833892822265625\n",
      "Iter 85, loss 89.63679504394531, constraint 0.2580500841140747\n",
      "Iter 86, loss 89.30744934082031, constraint 0.2577739953994751\n",
      "Iter 87, loss 88.97666931152344, constraint 0.2577340006828308\n",
      "Iter 88, loss 88.66680908203125, constraint 0.25819268822669983\n",
      "Iter 89, loss 88.36690521240234, constraint 0.2584836781024933\n",
      "Iter 90, loss 88.08294677734375, constraint 0.2586948871612549\n",
      "Iter 91, loss 87.81864929199219, constraint 0.2588386535644531\n",
      "Iter 92, loss 87.58174133300781, constraint 0.25892946124076843\n",
      "Iter 93, loss 87.32904052734375, constraint 0.2589752674102783\n",
      "Iter 94, loss 87.11141204833984, constraint 0.25898510217666626\n",
      "Iter 95, loss 86.88442993164062, constraint 0.2590453624725342\n",
      "Iter 96, loss 86.67264556884766, constraint 0.25933974981307983\n",
      "Iter 97, loss 86.48445892333984, constraint 0.2596416771411896\n",
      "Iter 98, loss 86.31932067871094, constraint 0.2600318193435669\n",
      "Iter 99, loss 86.16466522216797, constraint 0.2603120803833008\n",
      "Accuracy on adversarial test batch: 9.375%\n",
      "Average perturbation: 0.2526390850543976%\n"
     ]
    }
   ],
   "source": [
    "# Step 6: Generate adversarial test examples\n",
    "attack = FeatureAdversariesPyTorch(\n",
    "    classifier,\n",
    "    layer=7,\n",
    "    delta=61/255,\n",
    "    optimizer=optim.Adam,\n",
    "    optimizer_kwargs={\"lr\": 0.01},\n",
    "    lambda_=1.0,\n",
    "    max_iter=100,\n",
    "    random_start=True\n",
    ")\n",
    "x_test_adv = attack.generate(source, guide)\n",
    "\n",
    "# Step 7: Evaluate the ART classifier on adversarial test examples\n",
    "\n",
    "predictions = classifier.predict(x_test_adv)\n",
    "accuracy = np.sum(np.argmax(predictions, axis=1) == np.argmax(y_test[:100][valid][:32], axis=1)) / len(y_test[:100][valid][:32])\n",
    "\n",
    "dim = tuple(range(1, len(source.shape)))\n",
    "pert = np.mean(np.amax(np.abs(source - x_test_adv), axis=dim))\n",
    "print(\"Accuracy on adversarial test batch: {}%\".format(accuracy * 100))\n",
    "print(\"Average perturbation: {}%\".format(pert))"
   ]
  },
  {
   "cell_type": "code",
   "execution_count": 11,
   "id": "78e7ed4e",
   "metadata": {},
   "outputs": [
    {
     "data": {
      "text/plain": [
       "<matplotlib.image.AxesImage at 0x7f129801c280>"
      ]
     },
     "execution_count": 11,
     "metadata": {},
     "output_type": "execute_result"
    },
    {
     "data": {
      "image/png": "[encoded data removed]",
      "text/plain": [
       "<Figure size 432x288 with 1 Axes>"
      ]
     },
     "metadata": {
      "needs_background": "light"
     },
     "output_type": "display_data"
    }
   ],
   "source": [
    "# Step 8: Inspect results\n",
    "\n",
    "# orig 7, guide 6\n",
    "plt.imshow(x_test_adv[0,...].squeeze())"
   ]
  },
  {
   "cell_type": "code",
   "execution_count": 12,
   "id": "dce73b0f",
   "metadata": {},
   "outputs": [
    {
     "data": {
      "text/plain": [
       "<matplotlib.image.AxesImage at 0x7f1291fe4c70>"
      ]
     },
     "execution_count": 12,
     "metadata": {},
     "output_type": "execute_result"
    },
    {
     "data": {
      "image/png": "[encoded data removed]",
      "text/plain": [
       "<Figure size 432x288 with 1 Axes>"
      ]
     },
     "metadata": {
      "needs_background": "light"
     },
     "output_type": "display_data"
    }
   ],
   "source": [
    "# orig 1, guide 5\n",
    "plt.imshow(x_test_adv[2,...].squeeze())"
   ]
  },
  {
   "cell_type": "code",
   "execution_count": 13,
   "id": "8082690b",
   "metadata": {},
   "outputs": [
    {
     "data": {
      "text/plain": [
       "<matplotlib.image.AxesImage at 0x7f1291f4c640>"
      ]
     },
     "execution_count": 13,
     "metadata": {},
     "output_type": "execute_result"
    },
    {
     "data": {
      "image/png": "[encoded data removed]",
      "text/plain": [
       "<Figure size 432x288 with 1 Axes>"
      ]
     },
     "metadata": {
      "needs_background": "light"
     },
     "output_type": "display_data"
    }
   ],
   "source": [
    "# orig 4, guide 9\n",
    "plt.imshow(x_test_adv[4,...].squeeze())"
   ]
  },
  {
   "cell_type": "code",
   "execution_count": 14,
   "id": "a68f96b7",
   "metadata": {},
   "outputs": [
    {
     "data": {
      "text/plain": [
       "<matplotlib.image.AxesImage at 0x7f1291f31220>"
      ]
     },
     "execution_count": 14,
     "metadata": {},
     "output_type": "execute_result"
    },
    {
     "data": {
      "image/png": "[encoded data removed]",
      "text/plain": [
       "<Figure size 432x288 with 1 Axes>"
      ]
     },
     "metadata": {
      "needs_background": "light"
     },
     "output_type": "display_data"
    }
   ],
   "source": [
    "# orig 4, guide 2\n",
    "plt.imshow(x_test_adv[6,...].squeeze())"
   ]
  },
  {
   "cell_type": "code",
   "execution_count": 15,
   "id": "7a16e8fb",
   "metadata": {},
   "outputs": [
    {
     "data": {
      "text/plain": [
       "<matplotlib.image.AxesImage at 0x7f1291ee6910>"
      ]
     },
     "execution_count": 15,
     "metadata": {},
     "output_type": "execute_result"
    },
    {
     "data": {
      "image/png": "[encoded data removed]",
      "text/plain": [
       "<Figure size 432x288 with 1 Axes>"
      ]
     },
     "metadata": {
      "needs_background": "light"
     },
     "output_type": "display_data"
    }
   ],
   "source": [
    "# orig 5, guide 9\n",
    "plt.imshow(x_test_adv[8,...].squeeze())"
   ]
  },
  {
   "cell_type": "code",
   "execution_count": 16,
   "id": "8efcd647",
   "metadata": {},
   "outputs": [
    {
     "data": {
      "text/plain": [
       "<matplotlib.image.AxesImage at 0x7f1291e734c0>"
      ]
     },
     "execution_count": 16,
     "metadata": {},
     "output_type": "execute_result"
    },
    {
     "data": {
      "image/png": "[encoded data removed]",
      "text/plain": [
       "<Figure size 432x288 with 1 Axes>"
      ]
     },
     "metadata": {
      "needs_background": "light"
     },
     "output_type": "display_data"
    }
   ],
   "source": [
    "# orig 0, guide 8\n",
    "plt.imshow(x_test_adv[10,...].squeeze())"
   ]
  }
 ],
 "metadata": {
  "kernelspec": {
   "display_name": "Python 3",
   "language": "python",
   "name": "python3"
  },
  "language_info": {
   "codemirror_mode": {
    "name": "ipython",
    "version": 3
   },
   "file_extension": ".py",
   "mimetype": "text/x-python",
   "name": "python",
   "nbconvert_exporter": "python",
   "pygments_lexer": "ipython3",
   "version": "3.8.10"
  }
 },
 "nbformat": 4,
 "nbformat_minor": 5
}
